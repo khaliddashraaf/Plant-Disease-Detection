{
 "cells": [
  {
   "cell_type": "code",
   "execution_count": 107,
   "id": "221cd053",
   "metadata": {},
   "outputs": [
    {
     "name": "stdout",
     "output_type": "stream",
     "text": [
      "Found 14427 images belonging to 15 classes.\n",
      "Found 6211 images belonging to 15 classes.\n"
     ]
    }
   ],
   "source": [
    "import keras\n",
    "from keras.models import Sequential\n",
    "from keras.layers import Dense, Conv2D, MaxPool2D , Flatten\n",
    "from keras.preprocessing.image import ImageDataGenerator\n",
    "import numpy as np\n",
    "import tensorflow as tf\n",
    "from tensorflow.keras.optimizers import SGD\n",
    "from keras.callbacks import ModelCheckpoint, EarlyStopping\n",
    "\n",
    "trdata = ImageDataGenerator()\n",
    "train_images = trdata.flow_from_directory(directory=r\"C:\\Users\\Khalid\\Desktop\\Project\\PlantVillage\\PlantVillage_test\",target_size=(224,224), batch_size=16, shuffle=True)\n",
    "tsdata = ImageDataGenerator()\n",
    "test_images = tsdata.flow_from_directory(directory=r\"C:\\Users\\Khalid\\Desktop\\Project\\PlantVillage\\PlantVillage_train\", target_size=(224,224), batch_size=16, shuffle=True)\n"
   ]
  },
  {
   "cell_type": "code",
   "execution_count": 108,
   "id": "886935cf",
   "metadata": {},
   "outputs": [],
   "source": [
    "model = Sequential()\n",
    "model.add(Conv2D(input_shape=(224,224,3),filters=64,kernel_size=(3,3),padding=\"same\", activation=\"relu\"))\n",
    "model.add(Conv2D(filters=64,kernel_size=(3,3),padding=\"same\", activation=\"relu\"))\n",
    "model.add(MaxPool2D(pool_size=(2,2),strides=(2,2)))\n",
    "model.add(Conv2D(filters=128, kernel_size=(3,3), padding=\"same\", activation=\"relu\"))\n",
    "model.add(Conv2D(filters=128, kernel_size=(3,3), padding=\"same\", activation=\"relu\"))\n",
    "model.add(MaxPool2D(pool_size=(2,2),strides=(2,2)))\n",
    "model.add(Conv2D(filters=256, kernel_size=(3,3), padding=\"same\", activation=\"relu\"))\n",
    "model.add(Conv2D(filters=256, kernel_size=(3,3), padding=\"same\", activation=\"relu\"))\n",
    "model.add(Conv2D(filters=256, kernel_size=(3,3), padding=\"same\", activation=\"relu\"))\n",
    "model.add(MaxPool2D(pool_size=(2,2),strides=(2,2)))\n",
    "model.add(Conv2D(filters=512, kernel_size=(3,3), padding=\"same\", activation=\"relu\"))\n",
    "model.add(Conv2D(filters=512, kernel_size=(3,3), padding=\"same\", activation=\"relu\"))\n",
    "model.add(Conv2D(filters=512, kernel_size=(3,3), padding=\"same\", activation=\"relu\"))\n",
    "model.add(MaxPool2D(pool_size=(2,2),strides=(2,2)))\n",
    "model.add(Conv2D(filters=512, kernel_size=(3,3), padding=\"same\", activation=\"relu\"))\n",
    "model.add(Conv2D(filters=512, kernel_size=(3,3), padding=\"same\", activation=\"relu\"))\n",
    "model.add(Conv2D(filters=512, kernel_size=(3,3), padding=\"same\", activation=\"relu\"))\n",
    "model.add(MaxPool2D(pool_size=(2,2),strides=(2,2)))\n",
    "\n",
    "model.add(Flatten())\n",
    "model.add(Dense(units=4096,activation=\"elu\"))\n",
    "model.add(Dense(units=4096,activation=\"sigmoid\"))\n",
    "model.add(Dense(units=15, activation=\"softmax\"))"
   ]
  },
  {
   "cell_type": "code",
   "execution_count": 111,
   "id": "7e96daa3",
   "metadata": {},
   "outputs": [],
   "source": [
    "opt = SGD(learning_rate=0.001)\n",
    "model.compile(optimizer=opt, loss=keras.losses.categorical_crossentropy, metrics=['accuracy'])"
   ]
  },
  {
   "cell_type": "code",
   "execution_count": 31,
   "id": "b3fda3e9",
   "metadata": {},
   "outputs": [
    {
     "name": "stdout",
     "output_type": "stream",
     "text": [
      "Epoch 1/10\n",
      "902/902 [==============================] - ETA: 0s - loss: 2.1279 - accuracy: 0.3169\n",
      "Epoch 1: val_accuracy improved from -inf to 0.59375, saving model to vgg16_1.h5\n",
      "902/902 [==============================] - 207s 228ms/step - loss: 2.1279 - accuracy: 0.3169 - val_loss: 1.3883 - val_accuracy: 0.5938\n",
      "Epoch 2/10\n",
      "902/902 [==============================] - ETA: 0s - loss: 1.2604 - accuracy: 0.5929\n",
      "Epoch 2: val_accuracy did not improve from 0.59375\n",
      "902/902 [==============================] - 205s 227ms/step - loss: 1.2604 - accuracy: 0.5929 - val_loss: 1.3377 - val_accuracy: 0.5375\n",
      "Epoch 3/10\n",
      "902/902 [==============================] - ETA: 0s - loss: 0.8941 - accuracy: 0.7049\n",
      "Epoch 3: val_accuracy improved from 0.59375 to 0.72500, saving model to vgg16_1.h5\n",
      "902/902 [==============================] - 206s 228ms/step - loss: 0.8941 - accuracy: 0.7049 - val_loss: 0.8546 - val_accuracy: 0.7250\n",
      "Epoch 4/10\n",
      "902/902 [==============================] - ETA: 0s - loss: 0.6809 - accuracy: 0.7750\n",
      "Epoch 4: val_accuracy did not improve from 0.72500\n",
      "902/902 [==============================] - 205s 228ms/step - loss: 0.6809 - accuracy: 0.7750 - val_loss: 0.7412 - val_accuracy: 0.7250\n",
      "Epoch 5/10\n",
      "902/902 [==============================] - ETA: 0s - loss: 0.5436 - accuracy: 0.8212\n",
      "Epoch 5: val_accuracy improved from 0.72500 to 0.81250, saving model to vgg16_1.h5\n",
      "902/902 [==============================] - 206s 229ms/step - loss: 0.5436 - accuracy: 0.8212 - val_loss: 0.5740 - val_accuracy: 0.8125\n",
      "Epoch 6/10\n",
      "902/902 [==============================] - ETA: 0s - loss: 0.4322 - accuracy: 0.8643\n",
      "Epoch 6: val_accuracy did not improve from 0.81250\n",
      "902/902 [==============================] - 205s 228ms/step - loss: 0.4322 - accuracy: 0.8643 - val_loss: 0.8199 - val_accuracy: 0.7063\n",
      "Epoch 7/10\n",
      "902/902 [==============================] - ETA: 0s - loss: 0.3410 - accuracy: 0.8974\n",
      "Epoch 7: val_accuracy improved from 0.81250 to 0.86250, saving model to vgg16_1.h5\n",
      "902/902 [==============================] - 206s 229ms/step - loss: 0.3410 - accuracy: 0.8974 - val_loss: 0.4117 - val_accuracy: 0.8625\n",
      "Epoch 8/10\n",
      "902/902 [==============================] - ETA: 0s - loss: 0.2729 - accuracy: 0.9238\n",
      "Epoch 8: val_accuracy improved from 0.86250 to 0.94375, saving model to vgg16_1.h5\n",
      "902/902 [==============================] - 206s 229ms/step - loss: 0.2729 - accuracy: 0.9238 - val_loss: 0.2779 - val_accuracy: 0.9438\n",
      "Epoch 9/10\n",
      "902/902 [==============================] - ETA: 0s - loss: 0.2168 - accuracy: 0.9423\n",
      "Epoch 9: val_accuracy did not improve from 0.94375\n",
      "902/902 [==============================] - 205s 228ms/step - loss: 0.2168 - accuracy: 0.9423 - val_loss: 0.3537 - val_accuracy: 0.8875\n",
      "Epoch 10/10\n",
      "902/902 [==============================] - ETA: 0s - loss: 0.1689 - accuracy: 0.9618\n",
      "Epoch 10: val_accuracy did not improve from 0.94375\n",
      "902/902 [==============================] - 205s 228ms/step - loss: 0.1689 - accuracy: 0.9618 - val_loss: 0.2307 - val_accuracy: 0.9250\n"
     ]
    }
   ],
   "source": [
    "checkpoint = ModelCheckpoint(\"saved_model/model.h5\", monitor='val_accuracy', verbose=1, save_best_only=True, save_weights_only=False, mode='auto', save_freq='epoch')\n",
    "early = EarlyStopping(monitor='val_accuracy', min_delta=0, patience=20, verbose=1, mode='auto')\n",
    "hist = model.fit(train_images, validation_data= test_images, validation_steps=10,epochs=10,callbacks=[checkpoint,early])"
   ]
  },
  {
   "cell_type": "code",
   "execution_count": 33,
   "id": "e02d64db",
   "metadata": {},
   "outputs": [
    {
     "name": "stdout",
     "output_type": "stream",
     "text": [
      "389/389 - 30s - loss: 0.3090 - accuracy: 0.8997 - 30s/epoch - 77ms/step\n",
      "Trained model, accuracy: 89.97%\n"
     ]
    }
   ],
   "source": [
    "loss, acc = model.evaluate(train_images, verbose=2)\n",
    "print(\"Trained model, accuracy: {:5.2f}%\".format(100 * acc))"
   ]
  },
  {
   "cell_type": "code",
   "execution_count": 34,
   "id": "f3b99859",
   "metadata": {},
   "outputs": [
    {
     "name": "stdout",
     "output_type": "stream",
     "text": [
      "INFO:tensorflow:Assets written to: saved_model/vgg16_model_70-30\\assets\n"
     ]
    }
   ],
   "source": [
    "model.save('saved_model/model.h5')"
   ]
  },
  {
   "cell_type": "code",
   "execution_count": 74,
   "id": "8b527780",
   "metadata": {},
   "outputs": [
    {
     "data": {
      "image/png": "[encoded data removed]",
      "text/plain": [
       "<Figure size 432x288 with 1 Axes>"
      ]
     },
     "metadata": {
      "needs_background": "light"
     },
     "output_type": "display_data"
    },
    {
     "data": {
      "image/png": "[encoded data removed]",
      "text/plain": [
       "<Figure size 432x288 with 1 Axes>"
      ]
     },
     "metadata": {
      "needs_background": "light"
     },
     "output_type": "display_data"
    }
   ],
   "source": [
    "import matplotlib.pyplot as plt\n",
    "acc = hist.history['accuracy']\n",
    "val_acc = hist.history['val_accuracy']\n",
    "loss = hist.history['loss']\n",
    "val_loss = hist.history['val_loss']\n",
    "epochs = range(1, len(acc) + 1)\n",
    "#Train and validation accuracy\n",
    "plt.plot(epochs, acc, 'b', label='Training accurarcy')\n",
    "plt.plot(epochs, val_acc, 'r', label='Validation accurarcy')\n",
    "plt.title('Training and Validation accurarcy')\n",
    "plt.legend()\n",
    "\n",
    "plt.figure()\n",
    "#Train and validation loss\n",
    "plt.plot(epochs, loss, 'b', label='Training loss')\n",
    "plt.plot(epochs, val_loss, 'r', label='Validation loss')\n",
    "plt.title('Training and Validation loss')\n",
    "plt.legend()\n",
    "plt.show()"
   ]
  }
 ],
 "metadata": {
  "kernelspec": {
   "display_name": "Python 3 (ipykernel)",
   "language": "python",
   "name": "python3"
  },
  "language_info": {
   "codemirror_mode": {
    "name": "ipython",
    "version": 3
   },
   "file_extension": ".py",
   "mimetype": "text/x-python",
   "name": "python",
   "nbconvert_exporter": "python",
   "pygments_lexer": "ipython3",
   "version": "3.9.11"
  }
 },
 "nbformat": 4,
 "nbformat_minor": 5
}
